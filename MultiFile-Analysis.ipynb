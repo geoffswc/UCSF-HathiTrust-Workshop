{
 "cells": [
  {
   "cell_type": "markdown",
   "id": "34f2b34f",
   "metadata": {},
   "source": [
    "## Multiple File Exploration and Analysis\n",
    "\n",
    "This workbook will load the data created in \"MultiFile-Prep\" to build a topic model using Gensim. "
   ]
  },
  {
   "cell_type": "code",
   "execution_count": 1,
   "id": "cc36ea9f",
   "metadata": {},
   "outputs": [],
   "source": [
    "import pandas as pd\n",
    "import gensim\n",
    "from gensim import corpora\n",
    "import numpy as np"
   ]
  },
  {
   "cell_type": "markdown",
   "id": "cdb2f65a",
   "metadata": {},
   "source": [
    "### Read in data\n",
    "\n",
    "We exported the prepared data frame as a pickle file, so we'll read it back into pandas here."
   ]
  },
  {
   "cell_type": "code",
   "execution_count": 2,
   "id": "8a2f2575",
   "metadata": {},
   "outputs": [],
   "source": [
    "vol_df = pd.read_pickle('processed_data/ucsf_medical.pkl')"
   ]
  },
  {
   "cell_type": "code",
   "execution_count": 3,
   "id": "ac3aa6e5",
   "metadata": {},
   "outputs": [
    {
     "data": {
      "text/html": [
       "<div>\n",
       "<style scoped>\n",
       "    .dataframe tbody tr th:only-of-type {\n",
       "        vertical-align: middle;\n",
       "    }\n",
       "\n",
       "    .dataframe tbody tr th {\n",
       "        vertical-align: top;\n",
       "    }\n",
       "\n",
       "    .dataframe thead th {\n",
       "        text-align: right;\n",
       "    }\n",
       "</style>\n",
       "<table border=\"1\" class=\"dataframe\">\n",
       "  <thead>\n",
       "    <tr style=\"text-align: right;\">\n",
       "      <th></th>\n",
       "      <th>htid</th>\n",
       "      <th>page_number</th>\n",
       "      <th>page_tokens</th>\n",
       "      <th>title</th>\n",
       "    </tr>\n",
       "  </thead>\n",
       "  <tbody>\n",
       "    <tr>\n",
       "      <th>0</th>\n",
       "      <td>uc1.31378007786000</td>\n",
       "      <td>18</td>\n",
       "      <td>[albert, alfred, allen, alphabetically, anatom...</td>\n",
       "      <td>Announcement of the College of Dentistry.</td>\n",
       "    </tr>\n",
       "    <tr>\n",
       "      <th>1</th>\n",
       "      <td>uc1.31378007786000</td>\n",
       "      <td>76</td>\n",
       "      <td>[absent, alfred, allen, alphabetically, anatom...</td>\n",
       "      <td>Announcement of the College of Dentistry.</td>\n",
       "    </tr>\n",
       "    <tr>\n",
       "      <th>2</th>\n",
       "      <td>uc1.31378007786000</td>\n",
       "      <td>137</td>\n",
       "      <td>[absent, albert, albert, ardell, arthur, assis...</td>\n",
       "      <td>Announcement of the College of Dentistry.</td>\n",
       "    </tr>\n",
       "    <tr>\n",
       "      <th>3</th>\n",
       "      <td>uc1.31378007786000</td>\n",
       "      <td>199</td>\n",
       "      <td>[academic, academic, academic, acceptable, adj...</td>\n",
       "      <td>Announcement of the College of Dentistry.</td>\n",
       "    </tr>\n",
       "    <tr>\n",
       "      <th>4</th>\n",
       "      <td>uc1.31378007786000</td>\n",
       "      <td>239</td>\n",
       "      <td>[albert, ardell, arthur, assistant, assistant,...</td>\n",
       "      <td>Announcement of the College of Dentistry.</td>\n",
       "    </tr>\n",
       "    <tr>\n",
       "      <th>...</th>\n",
       "      <td>...</td>\n",
       "      <td>...</td>\n",
       "      <td>...</td>\n",
       "      <td>...</td>\n",
       "    </tr>\n",
       "    <tr>\n",
       "      <th>203</th>\n",
       "      <td>uc1.31378005266823</td>\n",
       "      <td>133</td>\n",
       "      <td>[acute, adjacent, ailable, allied, almost, alm...</td>\n",
       "      <td>School of Nursing.</td>\n",
       "    </tr>\n",
       "    <tr>\n",
       "      <th>204</th>\n",
       "      <td>uc1.31378005266823</td>\n",
       "      <td>195</td>\n",
       "      <td>[ambulatory, avenue, building, california, car...</td>\n",
       "      <td>School of Nursing.</td>\n",
       "    </tr>\n",
       "    <tr>\n",
       "      <th>205</th>\n",
       "      <td>uc1.31378005266823</td>\n",
       "      <td>198</td>\n",
       "      <td>[academic, account, addition, adjacent, admini...</td>\n",
       "      <td>School of Nursing.</td>\n",
       "    </tr>\n",
       "    <tr>\n",
       "      <th>206</th>\n",
       "      <td>uc1.31378005266823</td>\n",
       "      <td>199</td>\n",
       "      <td>[acute, adjacent, allied, almost, almost, anes...</td>\n",
       "      <td>School of Nursing.</td>\n",
       "    </tr>\n",
       "    <tr>\n",
       "      <th>207</th>\n",
       "      <td>uc1.31378005266823</td>\n",
       "      <td>204</td>\n",
       "      <td>[academic, academicians, actively, admission, ...</td>\n",
       "      <td>School of Nursing.</td>\n",
       "    </tr>\n",
       "  </tbody>\n",
       "</table>\n",
       "<p>208 rows × 4 columns</p>\n",
       "</div>"
      ],
      "text/plain": [
       "                   htid page_number  \\\n",
       "0    uc1.31378007786000          18   \n",
       "1    uc1.31378007786000          76   \n",
       "2    uc1.31378007786000         137   \n",
       "3    uc1.31378007786000         199   \n",
       "4    uc1.31378007786000         239   \n",
       "..                  ...         ...   \n",
       "203  uc1.31378005266823         133   \n",
       "204  uc1.31378005266823         195   \n",
       "205  uc1.31378005266823         198   \n",
       "206  uc1.31378005266823         199   \n",
       "207  uc1.31378005266823         204   \n",
       "\n",
       "                                           page_tokens  \\\n",
       "0    [albert, alfred, allen, alphabetically, anatom...   \n",
       "1    [absent, alfred, allen, alphabetically, anatom...   \n",
       "2    [absent, albert, albert, ardell, arthur, assis...   \n",
       "3    [academic, academic, academic, acceptable, adj...   \n",
       "4    [albert, ardell, arthur, assistant, assistant,...   \n",
       "..                                                 ...   \n",
       "203  [acute, adjacent, ailable, allied, almost, alm...   \n",
       "204  [ambulatory, avenue, building, california, car...   \n",
       "205  [academic, account, addition, adjacent, admini...   \n",
       "206  [acute, adjacent, allied, almost, almost, anes...   \n",
       "207  [academic, academicians, actively, admission, ...   \n",
       "\n",
       "                                         title  \n",
       "0    Announcement of the College of Dentistry.  \n",
       "1    Announcement of the College of Dentistry.  \n",
       "2    Announcement of the College of Dentistry.  \n",
       "3    Announcement of the College of Dentistry.  \n",
       "4    Announcement of the College of Dentistry.  \n",
       "..                                         ...  \n",
       "203                         School of Nursing.  \n",
       "204                         School of Nursing.  \n",
       "205                         School of Nursing.  \n",
       "206                         School of Nursing.  \n",
       "207                         School of Nursing.  \n",
       "\n",
       "[208 rows x 4 columns]"
      ]
     },
     "execution_count": 3,
     "metadata": {},
     "output_type": "execute_result"
    }
   ],
   "source": [
    "vol_df"
   ]
  },
  {
   "cell_type": "markdown",
   "id": "837ac3be",
   "metadata": {},
   "source": [
    "### Format Create Word Vectors for Gensim\n",
    "\n",
    "Gensim requires a specific formatting for term frequency vectors. We'll go through the existing dataframe line-by-line to create and populate these lists.\n",
    "\n",
    "For topic modeling or other natural language processing projects, you often need to decide on how broadly or narrowly you want to define a document. For example, you could define a document to be a sentence, paragraph, page, or multi-page publication. \n",
    "\n",
    "For this exercise, we'll consider each *page* in the corpus to be a document. "
   ]
  },
  {
   "cell_type": "code",
   "execution_count": 4,
   "id": "0cec8d22",
   "metadata": {},
   "outputs": [],
   "source": [
    "bow_text_lists = []\n",
    "text_len = []\n",
    "\n",
    "for i,r in vol_df.iterrows():\n",
    "    words = r.page_tokens\n",
    "    bow_text_lists.append(words)\n",
    "    bow_text = []\n",
    "    for word in words:\n",
    "        bow_text.append(word)\n",
    "    text_len.append(len(bow_text))"
   ]
  },
  {
   "cell_type": "markdown",
   "id": "9a3b1b8e",
   "metadata": {},
   "source": [
    "### Word Vectors\n",
    "\n",
    "We have 208 documents (defined as a page) in our collection, ranging from 72 to 478 words per document. "
   ]
  },
  {
   "cell_type": "code",
   "execution_count": 5,
   "id": "60ff4df3",
   "metadata": {},
   "outputs": [
    {
     "name": "stdout",
     "output_type": "stream",
     "text": [
      "208\n"
     ]
    }
   ],
   "source": [
    "print(len(bow_text_lists))"
   ]
  },
  {
   "cell_type": "code",
   "execution_count": 6,
   "id": "a03f21b1",
   "metadata": {},
   "outputs": [
    {
     "name": "stdout",
     "output_type": "stream",
     "text": [
      "max: 478 min: 72 mean: 217.75\n"
     ]
    }
   ],
   "source": [
    "print(\"max:\", max(text_len), \"min:\", min(text_len), \"mean:\", np.mean(text_len))"
   ]
  },
  {
   "cell_type": "code",
   "execution_count": 7,
   "id": "060aecd8",
   "metadata": {},
   "outputs": [
    {
     "name": "stdout",
     "output_type": "stream",
     "text": [
      "[188, 190, 191, 182, 219, 196, 201, 196, 189, 261, 191, 198, 180, 231, 239, 191, 238, 138, 217, 238, 78, 130, 233, 281, 182, 159, 183, 195, 218, 174, 168, 196, 198, 202, 201, 132, 237, 214, 105, 232, 274, 147, 131, 245, 212, 122, 253, 250, 122, 258, 416, 142, 130, 228, 287, 271, 193, 298, 249, 274, 135, 232, 237, 72, 135, 181, 135, 211, 148, 242, 92, 151, 257, 101, 146, 208, 258, 87, 143, 227, 257, 91, 144, 222, 252, 257, 143, 128, 220, 212, 217, 247, 151, 131, 220, 248, 153, 130, 308, 293, 87, 378, 163, 207, 363, 267, 478, 206, 201, 361, 386, 216, 198, 348, 275, 432, 231, 343, 183, 336, 231, 345, 182, 323, 99, 225, 284, 252, 248, 104, 227, 287, 248, 243, 211, 114, 232, 290, 251, 247, 214, 140, 244, 212, 96, 232, 304, 140, 114, 240, 156, 191, 130, 242, 217, 99, 223, 147, 135, 248, 286, 146, 248, 285, 191, 99, 227, 288, 177, 133, 241, 216, 128, 308, 291, 85, 162, 164, 204, 357, 264, 393, 208, 202, 359, 338, 213, 196, 348, 235, 341, 181, 144, 242, 284, 233, 346, 183, 187, 346, 313, 233, 348, 306, 90, 348, 309, 124]\n"
     ]
    }
   ],
   "source": [
    "print(text_len)"
   ]
  },
  {
   "cell_type": "markdown",
   "id": "c91b22fd",
   "metadata": {},
   "source": [
    "### Create Gensim dictionary and corpus\n",
    "\n",
    "A dictionary provides an id-to-token lookup for every word in the corpus (our \"bag-of-words\")\n",
    "\n",
    "Our corpus provides a term frequency vector for each document in our collection"
   ]
  },
  {
   "cell_type": "code",
   "execution_count": 22,
   "id": "d0f14a6b",
   "metadata": {},
   "outputs": [],
   "source": [
    "dictionary = corpora.Dictionary(bow_text_lists)\n",
    "corpus = [dictionary.doc2bow(text) for text in bow_text_lists]"
   ]
  },
  {
   "cell_type": "markdown",
   "id": "16788894",
   "metadata": {},
   "source": [
    "Take a look at our dictionary..."
   ]
  },
  {
   "cell_type": "code",
   "execution_count": 9,
   "id": "e7124297",
   "metadata": {},
   "outputs": [
    {
     "name": "stdout",
     "output_type": "stream",
     "text": [
      "0 : albert\n",
      "1 : alfred\n",
      "2 : allen\n",
      "3 : alphabetically\n",
      "4 : anatomy\n",
      "5 : ardell\n",
      "6 : arranged\n",
      "7 : assistant\n",
      "8 : assistants\n",
      "9 : bacteriology\n",
      "10 : bailey\n",
      "11 : becks\n",
      "12 : berger\n",
      "13 : bjorns\n",
      "14 : bolin\n",
      "15 : brassel\n"
     ]
    }
   ],
   "source": [
    "n = 0\n",
    "\n",
    "for k,v in dictionary.items():\n",
    "    if n <= 15:\n",
    "        print(f\"{k} : {v}\")\n",
    "        n += 1"
   ]
  },
  {
   "cell_type": "code",
   "execution_count": 10,
   "id": "0d6bad6e",
   "metadata": {},
   "outputs": [],
   "source": [
    "#vol_df.iloc[18]['page_tokens']"
   ]
  },
  {
   "cell_type": "markdown",
   "id": "01311d45",
   "metadata": {},
   "source": [
    "... and the term frequency for one of the documents (pages) in our corpus "
   ]
  },
  {
   "cell_type": "code",
   "execution_count": 27,
   "id": "e133e56d",
   "metadata": {},
   "outputs": [
    {
     "data": {
      "text/plain": [
       "[(214, 5),\n",
       " (215, 1),\n",
       " (219, 1),\n",
       " (220, 4),\n",
       " (221, 1),\n",
       " (222, 1),\n",
       " (227, 5),\n",
       " (229, 4),\n",
       " (233, 2),\n",
       " (234, 1)]"
      ]
     },
     "execution_count": 27,
     "metadata": {},
     "output_type": "execute_result"
    }
   ],
   "source": [
    "# taking a small subset to display\n",
    "corpus[10][20:30]"
   ]
  },
  {
   "cell_type": "markdown",
   "id": "dedb7211",
   "metadata": {},
   "source": [
    "The term frequency is stored in sparse matrix format, as most words in the entire corpus won't show up in each individual document."
   ]
  },
  {
   "cell_type": "code",
   "execution_count": 30,
   "id": "189f892d",
   "metadata": {},
   "outputs": [
    {
     "name": "stdout",
     "output_type": "stream",
     "text": [
      "hygiene 5\n",
      "hygienist 1\n",
      "instruction 1\n",
      "instruments 4\n",
      "introductory 1\n",
      "inﬁrmary 1\n",
      "laboratory 5\n",
      "lectures 4\n",
      "may 2\n",
      "medicine 1\n"
     ]
    }
   ],
   "source": [
    "# with the terms included\n",
    "for c in corpus[10][20:30]:\n",
    "    print(dictionary[c[0]], c[1])"
   ]
  },
  {
   "cell_type": "markdown",
   "id": "21a46602",
   "metadata": {},
   "source": [
    "### Decide on a number of clusters and create a topic model\n",
    "\n",
    "Because we split our collection into two groups, \"nursing\" and \"dentistry\", let's choose 2 topics to start. Keep in mind, our topic model may not neatly divide these pages into two different clusters, because the topics discussed may overlap substantially!\n",
    "\n",
    "Choosing the number of topics is partly art, though there are strategies you can use. For now, try experimenting with different numbers of topics"
   ]
  },
  {
   "cell_type": "code",
   "execution_count": 31,
   "id": "0d06757d",
   "metadata": {},
   "outputs": [],
   "source": [
    "# this could take a while to run\n",
    "\n",
    "import warnings\n",
    "warnings.filterwarnings(\"ignore\", category=DeprecationWarning)\n",
    "\n",
    "number_of_topics = 2\n",
    "ldamodel = gensim.models.ldamodel.LdaModel(corpus, num_topics = number_of_topics, id2word=dictionary, passes=50)\n",
    "#ldamodel.save('model10.gensim')"
   ]
  },
  {
   "cell_type": "markdown",
   "id": "e165ad75",
   "metadata": {},
   "source": [
    "### Topics and word frequency\n",
    "\n",
    "Let's look at the words most associated with each of the (two) topics Gensim identified"
   ]
  },
  {
   "cell_type": "code",
   "execution_count": 33,
   "id": "82b6b331",
   "metadata": {},
   "outputs": [
    {
     "name": "stdout",
     "output_type": "stream",
     "text": [
      "topic: 0\n",
      "('health', 0.020686977)\n",
      "('medical', 0.015331215)\n",
      "('center', 0.014219145)\n",
      "('school', 0.013439278)\n",
      "('dental', 0.012886671)\n",
      "('parnassus', 0.012145497)\n",
      "('sciences', 0.0119149)\n",
      "('ucsf', 0.010534712)\n",
      "('research', 0.01006763)\n",
      "('care', 0.009978137)\n",
      "('one', 0.0098702535)\n",
      "('hospital', 0.009625308)\n",
      "('california', 0.009512477)\n",
      "('university', 0.0087313065)\n",
      "('college', 0.008162143)\n",
      "('building', 0.007994219)\n",
      "('nursing', 0.0077070864)\n",
      "('state', 0.0074101747)\n",
      "('campus', 0.0073062745)\n",
      "('san', 0.006985879)\n",
      "\n",
      "topic: 1\n",
      "('dentistry', 0.019595204)\n",
      "('dental', 0.018449912)\n",
      "('instructor', 0.016787043)\n",
      "('health', 0.015214322)\n",
      "('clinical', 0.0133632785)\n",
      "('assistant', 0.010476853)\n",
      "('sciences', 0.010434281)\n",
      "('operative', 0.008627841)\n",
      "('professor', 0.008539516)\n",
      "('students', 0.008039751)\n",
      "('university', 0.0072177066)\n",
      "('loan', 0.0067823227)\n",
      "('student', 0.0065705534)\n",
      "('campus', 0.006421274)\n",
      "('fund', 0.0058896127)\n",
      "('applicants', 0.005764631)\n",
      "('school', 0.0055220807)\n",
      "('hygiene', 0.0052591735)\n",
      "('san', 0.0051421747)\n",
      "('nursing', 0.00512426)\n",
      "\n"
     ]
    }
   ],
   "source": [
    "topics = ldamodel.show_topics(num_words=20, formatted=False)\n",
    "for topic in topics:\n",
    "    print(\"topic:\", topic[0])\n",
    "    for term in topic[1]:\n",
    "        print(term)\n",
    "    print()"
   ]
  },
  {
   "cell_type": "markdown",
   "id": "86818576",
   "metadata": {},
   "source": [
    "### Term frequency\n",
    "\n",
    "Look up the term frequency for each topic"
   ]
  },
  {
   "cell_type": "code",
   "execution_count": 34,
   "id": "bd77aae9",
   "metadata": {},
   "outputs": [
    {
     "data": {
      "text/plain": [
       "[(0, 0.007688786), (1, 0.0051018307)]"
      ]
     },
     "execution_count": 34,
     "metadata": {},
     "output_type": "execute_result"
    }
   ],
   "source": [
    "ldamodel.get_term_topics('nursing', minimum_probability=0)"
   ]
  },
  {
   "cell_type": "markdown",
   "id": "c8dd700c",
   "metadata": {},
   "source": [
    "### Topic visualization\n",
    "\n",
    "pyLDAvis provides really excellent visualizations for topic models. "
   ]
  },
  {
   "cell_type": "code",
   "execution_count": null,
   "id": "49be3d0c",
   "metadata": {},
   "outputs": [],
   "source": [
    "warnings.filterwarnings(\"ignore\", category=DeprecationWarning)\n",
    "\n",
    "# load the dictionary, corpus, and LDA model we created earlier:\n",
    "#dictionary = gensim.corpora.Dictionary.load('dictionary.gensim')\n",
    "#corpus = pickle.load(open('corpus.pkl', 'rb'))\n",
    "\n",
    "# If you generate a new model and change the number of topics, you may need to change the file name for the model (here, model5.gensim)\n",
    "#lda = ldamodel#gensim.models.ldamodel.LdaModel.load('model10.gensim')\n",
    "\n",
    "# import pyLDAvis and ready it for use in a notebook:\n",
    "import pyLDAvis\n",
    "import pyLDAvis.gensim_models as gensimvis\n",
    "pyLDAvis.enable_notebook()\n",
    "\n",
    "# feed pyLDAvis the pieces generated from Gensim and create the visualization:\n",
    "lda_display = gensimvis.prepare(ldamodel, corpus, dictionary, sort_topics=False)\n",
    "pyLDAvis.display(lda_display)"
   ]
  },
  {
   "cell_type": "markdown",
   "id": "45ed055e",
   "metadata": {},
   "source": [
    "### Getting topic probabilities for each document\n",
    "\n",
    "You may want to know the probability estimates gensim assigns for each topic to a specific document"
   ]
  },
  {
   "cell_type": "code",
   "execution_count": 38,
   "id": "feabe3ac",
   "metadata": {},
   "outputs": [
    {
     "data": {
      "text/plain": [
       "[(0, 0.20181142), (1, 0.79818857)]"
      ]
     },
     "execution_count": 38,
     "metadata": {},
     "output_type": "execute_result"
    }
   ],
   "source": [
    "ldamodel.get_document_topics(corpus[120])"
   ]
  },
  {
   "cell_type": "markdown",
   "id": "517053c7",
   "metadata": {},
   "source": [
    "let's take a look at all documents and add the probabilities to our dataframe"
   ]
  },
  {
   "cell_type": "code",
   "execution_count": 40,
   "id": "a0e35061",
   "metadata": {},
   "outputs": [],
   "source": [
    "document_topics = []\n",
    "for c in corpus:\n",
    "    document_topics.append(ldamodel.get_document_topics(c))"
   ]
  },
  {
   "cell_type": "code",
   "execution_count": 41,
   "id": "14fbffb8",
   "metadata": {},
   "outputs": [],
   "source": [
    "vol_df['topics'] = document_topics"
   ]
  },
  {
   "cell_type": "code",
   "execution_count": 42,
   "id": "7211fb15",
   "metadata": {
    "scrolled": true
   },
   "outputs": [
    {
     "data": {
      "text/html": [
       "<div>\n",
       "<style scoped>\n",
       "    .dataframe tbody tr th:only-of-type {\n",
       "        vertical-align: middle;\n",
       "    }\n",
       "\n",
       "    .dataframe tbody tr th {\n",
       "        vertical-align: top;\n",
       "    }\n",
       "\n",
       "    .dataframe thead th {\n",
       "        text-align: right;\n",
       "    }\n",
       "</style>\n",
       "<table border=\"1\" class=\"dataframe\">\n",
       "  <thead>\n",
       "    <tr style=\"text-align: right;\">\n",
       "      <th></th>\n",
       "      <th>htid</th>\n",
       "      <th>page_number</th>\n",
       "      <th>page_tokens</th>\n",
       "      <th>title</th>\n",
       "      <th>topics</th>\n",
       "    </tr>\n",
       "  </thead>\n",
       "  <tbody>\n",
       "    <tr>\n",
       "      <th>0</th>\n",
       "      <td>uc1.31378007786000</td>\n",
       "      <td>18</td>\n",
       "      <td>[albert, alfred, allen, alphabetically, anatom...</td>\n",
       "      <td>Announcement of the College of Dentistry.</td>\n",
       "      <td>[(1, 0.9971179)]</td>\n",
       "    </tr>\n",
       "    <tr>\n",
       "      <th>75</th>\n",
       "      <td>uc1.31378007786018</td>\n",
       "      <td>465</td>\n",
       "      <td>[activities, advanced, agencies, aim, analyzes...</td>\n",
       "      <td>Announcement of the College of Dentistry.</td>\n",
       "      <td>[(0, 0.9902214)]</td>\n",
       "    </tr>\n",
       "    <tr>\n",
       "      <th>74</th>\n",
       "      <td>uc1.31378007786018</td>\n",
       "      <td>427</td>\n",
       "      <td>[activities, addition, administration, agricul...</td>\n",
       "      <td>Announcement of the College of Dentistry.</td>\n",
       "      <td>[(0, 0.99609435)]</td>\n",
       "    </tr>\n",
       "    <tr>\n",
       "      <th>73</th>\n",
       "      <td>uc1.31378007786018</td>\n",
       "      <td>396</td>\n",
       "      <td>[anatomy, anatomy, anesthesia, bachelor, bacte...</td>\n",
       "      <td>Announcement of the College of Dentistry.</td>\n",
       "      <td>[(1, 0.99317986)]</td>\n",
       "    </tr>\n",
       "    <tr>\n",
       "      <th>72</th>\n",
       "      <td>uc1.31378007786018</td>\n",
       "      <td>391</td>\n",
       "      <td>[act, age, age, also, also, anaesthesia, anato...</td>\n",
       "      <td>Announcement of the College of Dentistry.</td>\n",
       "      <td>[(0, 0.9976324)]</td>\n",
       "    </tr>\n",
       "    <tr>\n",
       "      <th>...</th>\n",
       "      <td>...</td>\n",
       "      <td>...</td>\n",
       "      <td>...</td>\n",
       "      <td>...</td>\n",
       "      <td>...</td>\n",
       "    </tr>\n",
       "    <tr>\n",
       "      <th>118</th>\n",
       "      <td>uc1.31378004834720</td>\n",
       "      <td>279</td>\n",
       "      <td>[academic, adjacent, allied, almost, almost, a...</td>\n",
       "      <td>UCSF School of Dentistry bulletin.</td>\n",
       "      <td>[(1, 0.99253035)]</td>\n",
       "    </tr>\n",
       "    <tr>\n",
       "      <th>119</th>\n",
       "      <td>uc1.31378004834720</td>\n",
       "      <td>294</td>\n",
       "      <td>[aadsas, aadsas, aadsas, aadsas, aadsas, aadsa...</td>\n",
       "      <td>UCSF School of Dentistry bulletin.</td>\n",
       "      <td>[(1, 0.9971509)]</td>\n",
       "    </tr>\n",
       "    <tr>\n",
       "      <th>120</th>\n",
       "      <td>uc1.31378004834720</td>\n",
       "      <td>335</td>\n",
       "      <td>[academic, academicians, access, actively, adm...</td>\n",
       "      <td>UCSF School of Dentistry bulletin.</td>\n",
       "      <td>[(0, 0.20181063), (1, 0.79818934)]</td>\n",
       "    </tr>\n",
       "    <tr>\n",
       "      <th>114</th>\n",
       "      <td>uc1.31378004834720</td>\n",
       "      <td>228</td>\n",
       "      <td>[accredited, accredited, addition, additional,...</td>\n",
       "      <td>UCSF School of Dentistry bulletin.</td>\n",
       "      <td>[(0, 0.017226098), (1, 0.9827739)]</td>\n",
       "    </tr>\n",
       "    <tr>\n",
       "      <th>103</th>\n",
       "      <td>uc1.31378004834720</td>\n",
       "      <td>95</td>\n",
       "      <td>[academic, academicians, access, actively, adm...</td>\n",
       "      <td>UCSF School of Dentistry bulletin.</td>\n",
       "      <td>[(0, 0.06421158), (1, 0.9357884)]</td>\n",
       "    </tr>\n",
       "  </tbody>\n",
       "</table>\n",
       "<p>208 rows × 5 columns</p>\n",
       "</div>"
      ],
      "text/plain": [
       "                   htid page_number  \\\n",
       "0    uc1.31378007786000          18   \n",
       "75   uc1.31378007786018         465   \n",
       "74   uc1.31378007786018         427   \n",
       "73   uc1.31378007786018         396   \n",
       "72   uc1.31378007786018         391   \n",
       "..                  ...         ...   \n",
       "118  uc1.31378004834720         279   \n",
       "119  uc1.31378004834720         294   \n",
       "120  uc1.31378004834720         335   \n",
       "114  uc1.31378004834720         228   \n",
       "103  uc1.31378004834720          95   \n",
       "\n",
       "                                           page_tokens  \\\n",
       "0    [albert, alfred, allen, alphabetically, anatom...   \n",
       "75   [activities, advanced, agencies, aim, analyzes...   \n",
       "74   [activities, addition, administration, agricul...   \n",
       "73   [anatomy, anatomy, anesthesia, bachelor, bacte...   \n",
       "72   [act, age, age, also, also, anaesthesia, anato...   \n",
       "..                                                 ...   \n",
       "118  [academic, adjacent, allied, almost, almost, a...   \n",
       "119  [aadsas, aadsas, aadsas, aadsas, aadsas, aadsa...   \n",
       "120  [academic, academicians, access, actively, adm...   \n",
       "114  [accredited, accredited, addition, additional,...   \n",
       "103  [academic, academicians, access, actively, adm...   \n",
       "\n",
       "                                         title  \\\n",
       "0    Announcement of the College of Dentistry.   \n",
       "75   Announcement of the College of Dentistry.   \n",
       "74   Announcement of the College of Dentistry.   \n",
       "73   Announcement of the College of Dentistry.   \n",
       "72   Announcement of the College of Dentistry.   \n",
       "..                                         ...   \n",
       "118         UCSF School of Dentistry bulletin.   \n",
       "119         UCSF School of Dentistry bulletin.   \n",
       "120         UCSF School of Dentistry bulletin.   \n",
       "114         UCSF School of Dentistry bulletin.   \n",
       "103         UCSF School of Dentistry bulletin.   \n",
       "\n",
       "                                 topics  \n",
       "0                      [(1, 0.9971179)]  \n",
       "75                     [(0, 0.9902214)]  \n",
       "74                    [(0, 0.99609435)]  \n",
       "73                    [(1, 0.99317986)]  \n",
       "72                     [(0, 0.9976324)]  \n",
       "..                                  ...  \n",
       "118                   [(1, 0.99253035)]  \n",
       "119                    [(1, 0.9971509)]  \n",
       "120  [(0, 0.20181063), (1, 0.79818934)]  \n",
       "114  [(0, 0.017226098), (1, 0.9827739)]  \n",
       "103   [(0, 0.06421158), (1, 0.9357884)]  \n",
       "\n",
       "[208 rows x 5 columns]"
      ]
     },
     "execution_count": 42,
     "metadata": {},
     "output_type": "execute_result"
    }
   ],
   "source": [
    "vol_df.sort_values(by='title')"
   ]
  },
  {
   "cell_type": "markdown",
   "id": "43232b29",
   "metadata": {},
   "source": [
    "### Exercise:\n",
    "\n",
    "* Try changing the number of topics.\n",
    "* Try building a topic model by document, rather than by page (this is probably way too involved for the workshop, but might be interesting to try later)"
   ]
  },
  {
   "cell_type": "markdown",
   "id": "6215aedc",
   "metadata": {},
   "source": [
    "### Analyzing a single document in the general topic model\n",
    "\n",
    "Take a look at the results for a single document (you'll need to look up the page number for a document)\n",
    "for example, you can look up the document for the first record: https://babel.hathitrust.org/cgi/pt?id=uc1.31378007786000&view=1up&seq=9                                            "
   ]
  },
  {
   "cell_type": "code",
   "execution_count": 45,
   "id": "f4908c91",
   "metadata": {},
   "outputs": [
    {
     "data": {
      "text/plain": [
       "htid                                          uc1.31378007786000\n",
       "page_number                                                   18\n",
       "page_tokens    [albert, alfred, allen, alphabetically, anatom...\n",
       "title                  Announcement of the College of Dentistry.\n",
       "topics                                          [(1, 0.9971179)]\n",
       "Name: 0, dtype: object"
      ]
     },
     "execution_count": 45,
     "metadata": {},
     "output_type": "execute_result"
    }
   ],
   "source": [
    "vol_df.iloc[0]"
   ]
  },
  {
   "cell_type": "code",
   "execution_count": 49,
   "id": "d9ebf058",
   "metadata": {},
   "outputs": [
    {
     "data": {
      "text/plain": [
       "['pathology',\n",
       " 'pathology',\n",
       " 'pauline',\n",
       " 'professor',\n",
       " 'professor',\n",
       " 'professor',\n",
       " 'professor',\n",
       " 'professor',\n",
       " 'professor',\n",
       " 'professor']"
      ]
     },
     "execution_count": 49,
     "metadata": {},
     "output_type": "execute_result"
    }
   ],
   "source": [
    "vol_df.iloc[0]['page_tokens'][150:160]"
   ]
  },
  {
   "cell_type": "markdown",
   "id": "9cc39328",
   "metadata": {},
   "source": [
    "### Exercise\n",
    "\n",
    "Try finding a document with a more ambigous categorization. Does the more ambiguous categorization from Gensim match your general intuition about the document?  "
   ]
  },
  {
   "cell_type": "code",
   "execution_count": null,
   "id": "074c0f7b",
   "metadata": {},
   "outputs": [],
   "source": []
  }
 ],
 "metadata": {
  "kernelspec": {
   "display_name": "Python 3 (ipykernel)",
   "language": "python",
   "name": "python3"
  },
  "language_info": {
   "codemirror_mode": {
    "name": "ipython",
    "version": 3
   },
   "file_extension": ".py",
   "mimetype": "text/x-python",
   "name": "python",
   "nbconvert_exporter": "python",
   "pygments_lexer": "ipython3",
   "version": "3.9.7"
  }
 },
 "nbformat": 4,
 "nbformat_minor": 5
}
