{
 "cells": [
  {
   "cell_type": "markdown",
   "id": "db8c2087",
   "metadata": {},
   "source": [
    "## Single File Exploration and Analysis\n",
    "\n",
    "We'll start by looking at a single file using the HTRC FeatureReader. This will give us an opportunity to explore the feature reader API on a smaller dataset before moving on to analysis of larger collections.\n",
    "\n",
    "Note: For this workshop, we're using a collection of documents from UCSF Health Sciences. This workshop is adapted from tutorial material and documentation from HathiTrust and Programming Historian. If you'd like to follow along with this workbook but don't have the UCSF dataset, you can (with some modifications) use sample datasets from HathiTrust. Links are below.\n",
    "\n",
    "Programming Historian Tutorial:\n",
    "    https://programminghistorian.org/en/lessons/text-mining-with-extracted-features\n",
    "    \n",
    "Sample Data:\n",
    "    https://analytics.hathitrust.org/datasets\n",
    "\n",
    "        \n",
    "HathiTrust FeatureReader documentation and examples\n",
    "    https://github.com/htrc/htrc-feature-reader\n",
    "    \n",
    "The Feature Reader provides an extensive set of NLP tools for text analysis, more than we can cover in this workshop. The goal here is to introduce you to this API and do enough programming with the FeatureReader that you feel familiar enough to continue reading, coding, and applying it to your research and projects"
   ]
  },
  {
   "cell_type": "markdown",
   "id": "20f4e806",
   "metadata": {},
   "source": [
    "### Import modules and set python and notebook parameters\n",
    "\n",
    "First, some setup..."
   ]
  },
  {
   "cell_type": "code",
   "execution_count": 1,
   "id": "94b2394b",
   "metadata": {},
   "outputs": [],
   "source": [
    "from htrc_features import FeatureReader, Volume\n",
    "\n",
    "import warnings\n",
    "warnings.simplefilter(action='ignore', category=FutureWarning)\n",
    "\n",
    "import pandas\n",
    "pandas.set_option('display.max_rows', 50)"
   ]
  },
  {
   "cell_type": "markdown",
   "id": "2feca339",
   "metadata": {},
   "source": [
    "### Read in a single, multi-page volume\n",
    "\n",
    "We'll use the Volume interface to read in a single document. "
   ]
  },
  {
   "cell_type": "code",
   "execution_count": 2,
   "id": "1cd265e5",
   "metadata": {},
   "outputs": [],
   "source": [
    "vol = Volume('data/uc1/30268/uc1.32106020265887.json.bz2')"
   ]
  },
  {
   "cell_type": "code",
   "execution_count": 3,
   "id": "84972a9c",
   "metadata": {},
   "outputs": [
    {
     "name": "stdout",
     "output_type": "stream",
     "text": [
      "<Volume: University bulletin : a weekly... (1972) by University of California (System)>\n"
     ]
    }
   ],
   "source": [
    "print(vol)"
   ]
  },
  {
   "cell_type": "markdown",
   "id": "e16b119d",
   "metadata": {},
   "source": [
    "Jupyter Notebook will provide some formatting and create links to this document. "
   ]
  },
  {
   "cell_type": "code",
   "execution_count": 4,
   "id": "0584a9db",
   "metadata": {},
   "outputs": [
    {
     "data": {
      "text/html": [
       "<strong><a href='http://hdl.handle.net/2027/uc1.32106020265887'>University bulletin : a weekly bulletin for the staff of the University of California.</a></strong> by <em>University of California (System)</em> (1972, 136 pages) - <code>uc1.32106020265887</code>"
      ],
      "text/plain": [
       "<htrc_features.feature_reader.Volume at 0x7f8e604459a0>"
      ]
     },
     "execution_count": 4,
     "metadata": {},
     "output_type": "execute_result"
    }
   ],
   "source": [
    "vol"
   ]
  },
  {
   "cell_type": "markdown",
   "id": "8a70e95b",
   "metadata": {},
   "source": [
    "You can also access individual attributes using Python"
   ]
  },
  {
   "cell_type": "code",
   "execution_count": 5,
   "id": "6662faf5",
   "metadata": {},
   "outputs": [
    {
     "name": "stdout",
     "output_type": "stream",
     "text": [
      "http://hdl.handle.net/2027/uc1.32106020265887\n",
      "uc1.32106020265887 136 1972 eng http://hdl.handle.net/2027/uc1.32106020265887\n"
     ]
    }
   ],
   "source": [
    "print(vol.handle_url)\n",
    "print(vol.id, vol.page_count, vol.year, vol.language, vol.handle_url)"
   ]
  },
  {
   "cell_type": "markdown",
   "id": "057b2078",
   "metadata": {},
   "source": [
    "To get a list of all attributes available on a Volume"
   ]
  },
  {
   "cell_type": "markdown",
   "id": "250239d5",
   "metadata": {},
   "source": [
    "vol.parser.meta.keys()"
   ]
  },
  {
   "cell_type": "markdown",
   "id": "916e6da0",
   "metadata": {},
   "source": [
    "### Exercise\n",
    "\n",
    "Take a look at and familiarize yourself with the article. Think about how text could be extracted from it. What information, in addition to text, would you want to preserve for your research? What information loss might you experience if you rely purely on text extraction? "
   ]
  },
  {
   "cell_type": "markdown",
   "id": "46adb097",
   "metadata": {},
   "source": [
    "### The Volume interface\n",
    "\n",
    "In this next section, we'll take a short tour of the Volume interface. The API is more extensive than this, so you're encouraged to keep exploring after this workshop!"
   ]
  },
  {
   "cell_type": "markdown",
   "id": "ca1a73d0",
   "metadata": {},
   "source": [
    "### Tokens\n",
    "\n",
    "The concept of a token is key to using the Volume API. \n",
    "\n",
    "\"A token is an instance of a sequence of characters in some particular document that are grouped together as a useful semantic unit for processing.\"\n",
    "\n",
    "https://nlp.stanford.edu/IR-book/html/htmledition/tokenization-1.html"
   ]
  },
  {
   "cell_type": "markdown",
   "id": "88d371d3",
   "metadata": {},
   "source": [
    "### Token Counts\n",
    "\n",
    "We can use tokens_per_page() to count and visualize the number of tokens per page"
   ]
  },
  {
   "cell_type": "markdown",
   "id": "0c532d49",
   "metadata": {},
   "source": [
    "vol.tokens_per_page()"
   ]
  },
  {
   "cell_type": "code",
   "execution_count": 6,
   "id": "65a71a6b",
   "metadata": {},
   "outputs": [
    {
     "data": {
      "text/plain": [
       "<AxesSubplot:xlabel='page'>"
      ]
     },
     "execution_count": 6,
     "metadata": {},
     "output_type": "execute_result"
    },
    {
     "data": {
      "image/png": "[encoded data removed]",
      "text/plain": [
       "<Figure size 432x288 with 1 Axes>"
      ]
     },
     "metadata": {
      "needs_background": "light"
     },
     "output_type": "display_data"
    }
   ],
   "source": [
    "# %matplotlib inline\n",
    "tokens = vol.tokens_per_page()\n",
    "tokens.plot()"
   ]
  },
  {
   "cell_type": "markdown",
   "id": "22ea95a3",
   "metadata": {},
   "source": [
    "### Unique Tokens\n",
    "\n",
    "To get unique tokens for a document"
   ]
  },
  {
   "cell_type": "code",
   "execution_count": 7,
   "id": "257b3816",
   "metadata": {},
   "outputs": [
    {
     "data": {
      "text/plain": [
       "['often',\n",
       " 'Square',\n",
       " 'Moon',\n",
       " 'public',\n",
       " '296',\n",
       " '25,837',\n",
       " 'draws',\n",
       " 'product',\n",
       " 'Small',\n",
       " 'attitudes']"
      ]
     },
     "execution_count": 7,
     "metadata": {},
     "output_type": "execute_result"
    }
   ],
   "source": [
    "unique_tokens = vol.tokens()\n",
    "\n",
    "# convert to a list to display only the first 10\n",
    "list(unique_tokens)[:10]"
   ]
  },
  {
   "cell_type": "markdown",
   "id": "ff658932",
   "metadata": {},
   "source": [
    "### Token List\n",
    "\n",
    "The Extracted Features dataset also provides token counts with much more granularity (page, section, token, part of speect, and count for each token)\n",
    "\n",
    "Parts of speech use Penn tree banking:\n",
    "    \n",
    "https://www.ling.upenn.edu/courses/Fall_2003/ling001/penn_treebank_pos.html"
   ]
  },
  {
   "cell_type": "code",
   "execution_count": 8,
   "id": "74645021",
   "metadata": {},
   "outputs": [
    {
     "data": {
      "text/html": [
       "<div>\n",
       "<style scoped>\n",
       "    .dataframe tbody tr th:only-of-type {\n",
       "        vertical-align: middle;\n",
       "    }\n",
       "\n",
       "    .dataframe tbody tr th {\n",
       "        vertical-align: top;\n",
       "    }\n",
       "\n",
       "    .dataframe thead th {\n",
       "        text-align: right;\n",
       "    }\n",
       "</style>\n",
       "<table border=\"1\" class=\"dataframe\">\n",
       "  <thead>\n",
       "    <tr style=\"text-align: right;\">\n",
       "      <th></th>\n",
       "      <th></th>\n",
       "      <th></th>\n",
       "      <th></th>\n",
       "      <th>count</th>\n",
       "    </tr>\n",
       "    <tr>\n",
       "      <th>page</th>\n",
       "      <th>section</th>\n",
       "      <th>token</th>\n",
       "      <th>pos</th>\n",
       "      <th></th>\n",
       "    </tr>\n",
       "  </thead>\n",
       "  <tbody>\n",
       "    <tr>\n",
       "      <th rowspan=\"5\" valign=\"top\">1</th>\n",
       "      <th rowspan=\"5\" valign=\"top\">body</th>\n",
       "      <th>-</th>\n",
       "      <th>UNK</th>\n",
       "      <td>1</td>\n",
       "    </tr>\n",
       "    <tr>\n",
       "      <th>020265887</th>\n",
       "      <th>UNK</th>\n",
       "      <td>1</td>\n",
       "    </tr>\n",
       "    <tr>\n",
       "      <th>3.2106</th>\n",
       "      <th>UNK</th>\n",
       "      <td>1</td>\n",
       "    </tr>\n",
       "    <tr>\n",
       "      <th>universit-of-ca-For-Santa-cau</th>\n",
       "      <th>UNK</th>\n",
       "      <td>1</td>\n",
       "    </tr>\n",
       "    <tr>\n",
       "      <th>|||||||</th>\n",
       "      <th>UNK</th>\n",
       "      <td>1</td>\n",
       "    </tr>\n",
       "    <tr>\n",
       "      <th>...</th>\n",
       "      <th>...</th>\n",
       "      <th>...</th>\n",
       "      <th>...</th>\n",
       "      <td>...</td>\n",
       "    </tr>\n",
       "    <tr>\n",
       "      <th rowspan=\"5\" valign=\"top\">134</th>\n",
       "      <th rowspan=\"5\" valign=\"top\">body</th>\n",
       "      <th>last</th>\n",
       "      <th>JJ</th>\n",
       "      <td>1</td>\n",
       "    </tr>\n",
       "    <tr>\n",
       "      <th>on</th>\n",
       "      <th>IN</th>\n",
       "      <td>1</td>\n",
       "    </tr>\n",
       "    <tr>\n",
       "      <th>stamped</th>\n",
       "      <th>VBD</th>\n",
       "      <td>1</td>\n",
       "    </tr>\n",
       "    <tr>\n",
       "      <th>the</th>\n",
       "      <th>DT</th>\n",
       "      <td>1</td>\n",
       "    </tr>\n",
       "    <tr>\n",
       "      <th>º</th>\n",
       "      <th>NN</th>\n",
       "      <td>2</td>\n",
       "    </tr>\n",
       "  </tbody>\n",
       "</table>\n",
       "<p>63417 rows × 1 columns</p>\n",
       "</div>"
      ],
      "text/plain": [
       "                                                count\n",
       "page section token                         pos       \n",
       "1    body    -                             UNK      1\n",
       "             020265887                     UNK      1\n",
       "             3.2106                        UNK      1\n",
       "             universit-of-ca-For-Santa-cau UNK      1\n",
       "             |||||||                       UNK      1\n",
       "...                                               ...\n",
       "134  body    last                          JJ       1\n",
       "             on                            IN       1\n",
       "             stamped                       VBD      1\n",
       "             the                           DT       1\n",
       "             º                             NN       2\n",
       "\n",
       "[63417 rows x 1 columns]"
      ]
     },
     "execution_count": 8,
     "metadata": {},
     "output_type": "execute_result"
    }
   ],
   "source": [
    "vol.tokenlist()"
   ]
  },
  {
   "cell_type": "code",
   "execution_count": 9,
   "id": "7d88d5b2",
   "metadata": {},
   "outputs": [],
   "source": [
    "tl = vol.tokenlist()"
   ]
  },
  {
   "cell_type": "code",
   "execution_count": 10,
   "id": "b3a70abf",
   "metadata": {},
   "outputs": [
    {
     "data": {
      "text/html": [
       "<div>\n",
       "<style scoped>\n",
       "    .dataframe tbody tr th:only-of-type {\n",
       "        vertical-align: middle;\n",
       "    }\n",
       "\n",
       "    .dataframe tbody tr th {\n",
       "        vertical-align: top;\n",
       "    }\n",
       "\n",
       "    .dataframe thead th {\n",
       "        text-align: right;\n",
       "    }\n",
       "</style>\n",
       "<table border=\"1\" class=\"dataframe\">\n",
       "  <thead>\n",
       "    <tr style=\"text-align: right;\">\n",
       "      <th></th>\n",
       "      <th></th>\n",
       "      <th></th>\n",
       "      <th></th>\n",
       "      <th>count</th>\n",
       "    </tr>\n",
       "    <tr>\n",
       "      <th>page</th>\n",
       "      <th>section</th>\n",
       "      <th>token</th>\n",
       "      <th>pos</th>\n",
       "      <th></th>\n",
       "    </tr>\n",
       "  </thead>\n",
       "  <tbody>\n",
       "    <tr>\n",
       "      <th rowspan=\"5\" valign=\"top\">1</th>\n",
       "      <th rowspan=\"5\" valign=\"top\">body</th>\n",
       "      <th>-</th>\n",
       "      <th>UNK</th>\n",
       "      <td>1</td>\n",
       "    </tr>\n",
       "    <tr>\n",
       "      <th>020265887</th>\n",
       "      <th>UNK</th>\n",
       "      <td>1</td>\n",
       "    </tr>\n",
       "    <tr>\n",
       "      <th>3.2106</th>\n",
       "      <th>UNK</th>\n",
       "      <td>1</td>\n",
       "    </tr>\n",
       "    <tr>\n",
       "      <th>universit-of-ca-For-Santa-cau</th>\n",
       "      <th>UNK</th>\n",
       "      <td>1</td>\n",
       "    </tr>\n",
       "    <tr>\n",
       "      <th>|||||||</th>\n",
       "      <th>UNK</th>\n",
       "      <td>1</td>\n",
       "    </tr>\n",
       "    <tr>\n",
       "      <th>...</th>\n",
       "      <th>...</th>\n",
       "      <th>...</th>\n",
       "      <th>...</th>\n",
       "      <td>...</td>\n",
       "    </tr>\n",
       "    <tr>\n",
       "      <th rowspan=\"5\" valign=\"top\">134</th>\n",
       "      <th rowspan=\"5\" valign=\"top\">body</th>\n",
       "      <th>last</th>\n",
       "      <th>JJ</th>\n",
       "      <td>1</td>\n",
       "    </tr>\n",
       "    <tr>\n",
       "      <th>on</th>\n",
       "      <th>IN</th>\n",
       "      <td>1</td>\n",
       "    </tr>\n",
       "    <tr>\n",
       "      <th>stamped</th>\n",
       "      <th>VBD</th>\n",
       "      <td>1</td>\n",
       "    </tr>\n",
       "    <tr>\n",
       "      <th>the</th>\n",
       "      <th>DT</th>\n",
       "      <td>1</td>\n",
       "    </tr>\n",
       "    <tr>\n",
       "      <th>º</th>\n",
       "      <th>NN</th>\n",
       "      <td>2</td>\n",
       "    </tr>\n",
       "  </tbody>\n",
       "</table>\n",
       "<p>63417 rows × 1 columns</p>\n",
       "</div>"
      ],
      "text/plain": [
       "                                                count\n",
       "page section token                         pos       \n",
       "1    body    -                             UNK      1\n",
       "             020265887                     UNK      1\n",
       "             3.2106                        UNK      1\n",
       "             universit-of-ca-For-Santa-cau UNK      1\n",
       "             |||||||                       UNK      1\n",
       "...                                               ...\n",
       "134  body    last                          JJ       1\n",
       "             on                            IN       1\n",
       "             stamped                       VBD      1\n",
       "             the                           DT       1\n",
       "             º                             NN       2\n",
       "\n",
       "[63417 rows x 1 columns]"
      ]
     },
     "execution_count": 10,
     "metadata": {},
     "output_type": "execute_result"
    }
   ],
   "source": [
    "tl"
   ]
  },
  {
   "cell_type": "code",
   "execution_count": 11,
   "id": "496b465a",
   "metadata": {},
   "outputs": [
    {
     "data": {
      "text/html": [
       "<div>\n",
       "<style scoped>\n",
       "    .dataframe tbody tr th:only-of-type {\n",
       "        vertical-align: middle;\n",
       "    }\n",
       "\n",
       "    .dataframe tbody tr th {\n",
       "        vertical-align: top;\n",
       "    }\n",
       "\n",
       "    .dataframe thead th {\n",
       "        text-align: right;\n",
       "    }\n",
       "</style>\n",
       "<table border=\"1\" class=\"dataframe\">\n",
       "  <thead>\n",
       "    <tr style=\"text-align: right;\">\n",
       "      <th></th>\n",
       "      <th>count</th>\n",
       "    </tr>\n",
       "    <tr>\n",
       "      <th>pos</th>\n",
       "      <th></th>\n",
       "    </tr>\n",
       "  </thead>\n",
       "  <tbody>\n",
       "    <tr>\n",
       "      <th>#</th>\n",
       "      <td>8</td>\n",
       "    </tr>\n",
       "    <tr>\n",
       "      <th>$</th>\n",
       "      <td>385</td>\n",
       "    </tr>\n",
       "    <tr>\n",
       "      <th>''</th>\n",
       "      <td>874</td>\n",
       "    </tr>\n",
       "    <tr>\n",
       "      <th>,</th>\n",
       "      <td>11064</td>\n",
       "    </tr>\n",
       "    <tr>\n",
       "      <th>-LRB-</th>\n",
       "      <td>702</td>\n",
       "    </tr>\n",
       "    <tr>\n",
       "      <th>-RRB-</th>\n",
       "      <td>763</td>\n",
       "    </tr>\n",
       "    <tr>\n",
       "      <th>.</th>\n",
       "      <td>5533</td>\n",
       "    </tr>\n",
       "    <tr>\n",
       "      <th>:</th>\n",
       "      <td>4209</td>\n",
       "    </tr>\n",
       "    <tr>\n",
       "      <th>CC</th>\n",
       "      <td>4615</td>\n",
       "    </tr>\n",
       "    <tr>\n",
       "      <th>CD</th>\n",
       "      <td>5625</td>\n",
       "    </tr>\n",
       "  </tbody>\n",
       "</table>\n",
       "</div>"
      ],
      "text/plain": [
       "       count\n",
       "pos         \n",
       "#          8\n",
       "$        385\n",
       "''       874\n",
       ",      11064\n",
       "-LRB-    702\n",
       "-RRB-    763\n",
       ".       5533\n",
       ":       4209\n",
       "CC      4615\n",
       "CD      5625"
      ]
     },
     "execution_count": 11,
     "metadata": {},
     "output_type": "execute_result"
    }
   ],
   "source": [
    "# use a groupby to count the number of each part of speech\n",
    "tl.groupby(level=[\"pos\"]).sum()[:10]"
   ]
  },
  {
   "cell_type": "markdown",
   "id": "5359412f",
   "metadata": {},
   "source": [
    "### Page and Parameters\n",
    "\n",
    "You can access tokens for a specific page, and specify certain parameters (ignore case, select for specific part of speech or section of the document)"
   ]
  },
  {
   "cell_type": "code",
   "execution_count": 12,
   "id": "448401f3",
   "metadata": {},
   "outputs": [
    {
     "data": {
      "text/html": [
       "<div>\n",
       "<style scoped>\n",
       "    .dataframe tbody tr th:only-of-type {\n",
       "        vertical-align: middle;\n",
       "    }\n",
       "\n",
       "    .dataframe tbody tr th {\n",
       "        vertical-align: top;\n",
       "    }\n",
       "\n",
       "    .dataframe thead th {\n",
       "        text-align: right;\n",
       "    }\n",
       "</style>\n",
       "<table border=\"1\" class=\"dataframe\">\n",
       "  <thead>\n",
       "    <tr style=\"text-align: right;\">\n",
       "      <th></th>\n",
       "      <th></th>\n",
       "      <th></th>\n",
       "      <th></th>\n",
       "      <th>count</th>\n",
       "    </tr>\n",
       "    <tr>\n",
       "      <th>page</th>\n",
       "      <th>section</th>\n",
       "      <th>lowercase</th>\n",
       "      <th>pos</th>\n",
       "      <th></th>\n",
       "    </tr>\n",
       "  </thead>\n",
       "  <tbody>\n",
       "    <tr>\n",
       "      <th rowspan=\"11\" valign=\"top\">9</th>\n",
       "      <th rowspan=\"11\" valign=\"top\">body</th>\n",
       "      <th>$</th>\n",
       "      <th>$</th>\n",
       "      <td>1</td>\n",
       "    </tr>\n",
       "    <tr>\n",
       "      <th>''</th>\n",
       "      <th>''</th>\n",
       "      <td>4</td>\n",
       "    </tr>\n",
       "    <tr>\n",
       "      <th>'d</th>\n",
       "      <th>MD</th>\n",
       "      <td>1</td>\n",
       "    </tr>\n",
       "    <tr>\n",
       "      <th>'ll</th>\n",
       "      <th>MD</th>\n",
       "      <td>1</td>\n",
       "    </tr>\n",
       "    <tr>\n",
       "      <th>'s</th>\n",
       "      <th>POS</th>\n",
       "      <td>7</td>\n",
       "    </tr>\n",
       "    <tr>\n",
       "      <th>...</th>\n",
       "      <th>...</th>\n",
       "      <td>...</td>\n",
       "    </tr>\n",
       "    <tr>\n",
       "      <th>years</th>\n",
       "      <th>NNS</th>\n",
       "      <td>5</td>\n",
       "    </tr>\n",
       "    <tr>\n",
       "      <th>you</th>\n",
       "      <th>PRP</th>\n",
       "      <td>12</td>\n",
       "    </tr>\n",
       "    <tr>\n",
       "      <th>young</th>\n",
       "      <th>NNP</th>\n",
       "      <td>2</td>\n",
       "    </tr>\n",
       "    <tr>\n",
       "      <th>your</th>\n",
       "      <th>PRP$</th>\n",
       "      <td>9</td>\n",
       "    </tr>\n",
       "    <tr>\n",
       "      <th>yourself</th>\n",
       "      <th>PRP</th>\n",
       "      <td>2</td>\n",
       "    </tr>\n",
       "  </tbody>\n",
       "</table>\n",
       "<p>568 rows × 1 columns</p>\n",
       "</div>"
      ],
      "text/plain": [
       "                             count\n",
       "page section lowercase pos        \n",
       "9    body    $         $         1\n",
       "             ''        ''        4\n",
       "             'd        MD        1\n",
       "             'll       MD        1\n",
       "             's        POS       7\n",
       "...                            ...\n",
       "             years     NNS       5\n",
       "             you       PRP      12\n",
       "             young     NNP       2\n",
       "             your      PRP$      9\n",
       "             yourself  PRP       2\n",
       "\n",
       "[568 rows x 1 columns]"
      ]
     },
     "execution_count": 12,
     "metadata": {},
     "output_type": "execute_result"
    }
   ],
   "source": [
    "vol.tokenlist(page_select=9,case=False)"
   ]
  },
  {
   "cell_type": "markdown",
   "id": "5a21b332",
   "metadata": {},
   "source": [
    "### Exercise\n",
    "\n",
    "Try out a few other methods available on a Volume. You can go to the API or try out the list below..."
   ]
  },
  {
   "cell_type": "code",
   "execution_count": 13,
   "id": "653b3319",
   "metadata": {},
   "outputs": [
    {
     "data": {
      "text/plain": [
       "page\n",
       "1        4\n",
       "5        2\n",
       "7      151\n",
       "8      194\n",
       "9      198\n",
       "      ... \n",
       "127     68\n",
       "128    118\n",
       "129    105\n",
       "130     84\n",
       "134      7\n",
       "Name: lineCount, Length: 127, dtype: int64"
      ]
     },
     "execution_count": 13,
     "metadata": {},
     "output_type": "execute_result"
    }
   ],
   "source": [
    "vol.line_counts()\n",
    "#vol.sentence_counts()\n",
    "#vol.empty_line_counts()\n",
    "#vol.begin_line_chars()\n",
    "#vol.end_line_chars()"
   ]
  },
  {
   "cell_type": "code",
   "execution_count": 14,
   "id": "430fee9e",
   "metadata": {},
   "outputs": [
    {
     "data": {
      "text/plain": [
       "<AxesSubplot:xlabel='page'>"
      ]
     },
     "execution_count": 14,
     "metadata": {},
     "output_type": "execute_result"
    },
    {
     "data": {
      "image/png": "[encoded data removed]",
      "text/plain": [
       "<Figure size 432x288 with 1 Axes>"
      ]
     },
     "metadata": {
      "needs_background": "light"
     },
     "output_type": "display_data"
    }
   ],
   "source": [
    "vol.line_counts().plot()"
   ]
  },
  {
   "cell_type": "markdown",
   "id": "38f35ca1",
   "metadata": {},
   "source": [
    "### Exercise: \n",
    "\n",
    "Take a look at some other records and get a sense of how text is extracted\n",
    "* how complete is it?\n",
    "* what do you gain from relying exclusively on word count? what do you lose?\n",
    "* is there clutter? Are non-alphanumeric characters useful to you?\n",
    "* how could it help to know the position or part of speech of a token? \n",
    "* how could varying transcription thoroughness and accuracy influence your research?\n",
    "\n",
    "http://htrc.github.io/htrc-feature-reader/htrc_features/feature_reader.m.html#htrc_features.feature_reader.Volume.tokenlist"
   ]
  },
  {
   "cell_type": "code",
   "execution_count": 15,
   "id": "e2913e02",
   "metadata": {},
   "outputs": [
    {
     "data": {
      "text/html": [
       "<div>\n",
       "<style scoped>\n",
       "    .dataframe tbody tr th:only-of-type {\n",
       "        vertical-align: middle;\n",
       "    }\n",
       "\n",
       "    .dataframe tbody tr th {\n",
       "        vertical-align: top;\n",
       "    }\n",
       "\n",
       "    .dataframe thead th {\n",
       "        text-align: right;\n",
       "    }\n",
       "</style>\n",
       "<table border=\"1\" class=\"dataframe\">\n",
       "  <thead>\n",
       "    <tr style=\"text-align: right;\">\n",
       "      <th></th>\n",
       "      <th></th>\n",
       "      <th></th>\n",
       "      <th>count</th>\n",
       "    </tr>\n",
       "    <tr>\n",
       "      <th>page</th>\n",
       "      <th>section</th>\n",
       "      <th>lowercase</th>\n",
       "      <th></th>\n",
       "    </tr>\n",
       "  </thead>\n",
       "  <tbody>\n",
       "    <tr>\n",
       "      <th rowspan=\"10\" valign=\"top\">9</th>\n",
       "      <th rowspan=\"10\" valign=\"top\">body</th>\n",
       "      <th>consisting</th>\n",
       "      <td>1</td>\n",
       "    </tr>\n",
       "    <tr>\n",
       "      <th>consultant</th>\n",
       "      <td>1</td>\n",
       "    </tr>\n",
       "    <tr>\n",
       "      <th>consultation</th>\n",
       "      <td>1</td>\n",
       "    </tr>\n",
       "    <tr>\n",
       "      <th>continually</th>\n",
       "      <td>1</td>\n",
       "    </tr>\n",
       "    <tr>\n",
       "      <th>continue</th>\n",
       "      <td>3</td>\n",
       "    </tr>\n",
       "    <tr>\n",
       "      <th>contributions</th>\n",
       "      <td>1</td>\n",
       "    </tr>\n",
       "    <tr>\n",
       "      <th>council</th>\n",
       "      <td>1</td>\n",
       "    </tr>\n",
       "    <tr>\n",
       "      <th>counsel</th>\n",
       "      <td>1</td>\n",
       "    </tr>\n",
       "    <tr>\n",
       "      <th>county</th>\n",
       "      <td>2</td>\n",
       "    </tr>\n",
       "    <tr>\n",
       "      <th>courage</th>\n",
       "      <td>1</td>\n",
       "    </tr>\n",
       "  </tbody>\n",
       "</table>\n",
       "</div>"
      ],
      "text/plain": [
       "                            count\n",
       "page section lowercase           \n",
       "9    body    consisting         1\n",
       "             consultant         1\n",
       "             consultation       1\n",
       "             continually        1\n",
       "             continue           3\n",
       "             contributions      1\n",
       "             council            1\n",
       "             counsel            1\n",
       "             county             2\n",
       "             courage            1"
      ]
     },
     "execution_count": 15,
     "metadata": {},
     "output_type": "execute_result"
    }
   ],
   "source": [
    "pandas.set_option('display.max_rows', None)\n",
    "vol.tokenlist(drop_section=False,case=False, pos=False)[1000:1010]"
   ]
  },
  {
   "cell_type": "code",
   "execution_count": 16,
   "id": "e0085df8",
   "metadata": {},
   "outputs": [],
   "source": [
    "tl = vol.tokenlist()"
   ]
  },
  {
   "cell_type": "code",
   "execution_count": 17,
   "id": "60a8feb3",
   "metadata": {},
   "outputs": [
    {
     "data": {
      "text/html": [
       "<div>\n",
       "<style scoped>\n",
       "    .dataframe tbody tr th:only-of-type {\n",
       "        vertical-align: middle;\n",
       "    }\n",
       "\n",
       "    .dataframe tbody tr th {\n",
       "        vertical-align: top;\n",
       "    }\n",
       "\n",
       "    .dataframe thead th {\n",
       "        text-align: right;\n",
       "    }\n",
       "</style>\n",
       "<table border=\"1\" class=\"dataframe\">\n",
       "  <thead>\n",
       "    <tr style=\"text-align: right;\">\n",
       "      <th></th>\n",
       "      <th></th>\n",
       "      <th></th>\n",
       "      <th></th>\n",
       "      <th>count</th>\n",
       "    </tr>\n",
       "    <tr>\n",
       "      <th>page</th>\n",
       "      <th>section</th>\n",
       "      <th>token</th>\n",
       "      <th>pos</th>\n",
       "      <th></th>\n",
       "    </tr>\n",
       "  </thead>\n",
       "  <tbody>\n",
       "    <tr>\n",
       "      <th>8</th>\n",
       "      <th>body</th>\n",
       "      <th>academic</th>\n",
       "      <th>JJ</th>\n",
       "      <td>3</td>\n",
       "    </tr>\n",
       "    <tr>\n",
       "      <th>10</th>\n",
       "      <th>body</th>\n",
       "      <th>academic</th>\n",
       "      <th>JJ</th>\n",
       "      <td>1</td>\n",
       "    </tr>\n",
       "    <tr>\n",
       "      <th>12</th>\n",
       "      <th>body</th>\n",
       "      <th>academic</th>\n",
       "      <th>JJ</th>\n",
       "      <td>1</td>\n",
       "    </tr>\n",
       "    <tr>\n",
       "      <th>13</th>\n",
       "      <th>body</th>\n",
       "      <th>academic</th>\n",
       "      <th>JJ</th>\n",
       "      <td>1</td>\n",
       "    </tr>\n",
       "    <tr>\n",
       "      <th>15</th>\n",
       "      <th>body</th>\n",
       "      <th>academic</th>\n",
       "      <th>JJ</th>\n",
       "      <td>2</td>\n",
       "    </tr>\n",
       "    <tr>\n",
       "      <th>16</th>\n",
       "      <th>body</th>\n",
       "      <th>academic</th>\n",
       "      <th>JJ</th>\n",
       "      <td>1</td>\n",
       "    </tr>\n",
       "    <tr>\n",
       "      <th>19</th>\n",
       "      <th>body</th>\n",
       "      <th>academic</th>\n",
       "      <th>JJ</th>\n",
       "      <td>1</td>\n",
       "    </tr>\n",
       "    <tr>\n",
       "      <th>21</th>\n",
       "      <th>body</th>\n",
       "      <th>academic</th>\n",
       "      <th>JJ</th>\n",
       "      <td>1</td>\n",
       "    </tr>\n",
       "    <tr>\n",
       "      <th>22</th>\n",
       "      <th>body</th>\n",
       "      <th>academic</th>\n",
       "      <th>JJ</th>\n",
       "      <td>1</td>\n",
       "    </tr>\n",
       "    <tr>\n",
       "      <th>23</th>\n",
       "      <th>body</th>\n",
       "      <th>academic</th>\n",
       "      <th>JJ</th>\n",
       "      <td>1</td>\n",
       "    </tr>\n",
       "  </tbody>\n",
       "</table>\n",
       "</div>"
      ],
      "text/plain": [
       "                           count\n",
       "page section token    pos       \n",
       "8    body    academic JJ       3\n",
       "10   body    academic JJ       1\n",
       "12   body    academic JJ       1\n",
       "13   body    academic JJ       1\n",
       "15   body    academic JJ       2\n",
       "16   body    academic JJ       1\n",
       "19   body    academic JJ       1\n",
       "21   body    academic JJ       1\n",
       "22   body    academic JJ       1\n",
       "23   body    academic JJ       1"
      ]
     },
     "execution_count": 17,
     "metadata": {},
     "output_type": "execute_result"
    }
   ],
   "source": [
    "### Select counts of the word ‘academic’ for all pages and all page sections (first 10 results)\n",
    "tl.loc[(slice(None), slice(None), \"academic\"),][:10]"
   ]
  },
  {
   "cell_type": "markdown",
   "id": "e14b9e60",
   "metadata": {},
   "source": [
    "### Exercise:\n",
    "\n",
    "Try to find the word “nursing” in this record, and compare where that shows up to the token-per-page pattern previously plotted."
   ]
  },
  {
   "cell_type": "code",
   "execution_count": 18,
   "id": "bc364894",
   "metadata": {},
   "outputs": [
    {
     "data": {
      "text/html": [
       "<div>\n",
       "<style scoped>\n",
       "    .dataframe tbody tr th:only-of-type {\n",
       "        vertical-align: middle;\n",
       "    }\n",
       "\n",
       "    .dataframe tbody tr th {\n",
       "        vertical-align: top;\n",
       "    }\n",
       "\n",
       "    .dataframe thead th {\n",
       "        text-align: right;\n",
       "    }\n",
       "</style>\n",
       "<table border=\"1\" class=\"dataframe\">\n",
       "  <thead>\n",
       "    <tr style=\"text-align: right;\">\n",
       "      <th></th>\n",
       "      <th></th>\n",
       "      <th></th>\n",
       "      <th></th>\n",
       "      <th>count</th>\n",
       "    </tr>\n",
       "    <tr>\n",
       "      <th>page</th>\n",
       "      <th>section</th>\n",
       "      <th>token</th>\n",
       "      <th>pos</th>\n",
       "      <th></th>\n",
       "    </tr>\n",
       "  </thead>\n",
       "  <tbody>\n",
       "    <tr>\n",
       "      <th>21</th>\n",
       "      <th>body</th>\n",
       "      <th>nursing</th>\n",
       "      <th>NN</th>\n",
       "      <td>1</td>\n",
       "    </tr>\n",
       "    <tr>\n",
       "      <th>25</th>\n",
       "      <th>body</th>\n",
       "      <th>nursing</th>\n",
       "      <th>NN</th>\n",
       "      <td>1</td>\n",
       "    </tr>\n",
       "    <tr>\n",
       "      <th>84</th>\n",
       "      <th>body</th>\n",
       "      <th>nursing</th>\n",
       "      <th>NN</th>\n",
       "      <td>1</td>\n",
       "    </tr>\n",
       "    <tr>\n",
       "      <th>86</th>\n",
       "      <th>body</th>\n",
       "      <th>nursing</th>\n",
       "      <th>NN</th>\n",
       "      <td>1</td>\n",
       "    </tr>\n",
       "    <tr>\n",
       "      <th>100</th>\n",
       "      <th>body</th>\n",
       "      <th>nursing</th>\n",
       "      <th>NN</th>\n",
       "      <td>1</td>\n",
       "    </tr>\n",
       "    <tr>\n",
       "      <th>120</th>\n",
       "      <th>body</th>\n",
       "      <th>nursing</th>\n",
       "      <th>NN</th>\n",
       "      <td>1</td>\n",
       "    </tr>\n",
       "    <tr>\n",
       "      <th>124</th>\n",
       "      <th>body</th>\n",
       "      <th>nursing</th>\n",
       "      <th>NN</th>\n",
       "      <td>5</td>\n",
       "    </tr>\n",
       "    <tr>\n",
       "      <th>125</th>\n",
       "      <th>body</th>\n",
       "      <th>nursing</th>\n",
       "      <th>NN</th>\n",
       "      <td>1</td>\n",
       "    </tr>\n",
       "  </tbody>\n",
       "</table>\n",
       "</div>"
      ],
      "text/plain": [
       "                          count\n",
       "page section token   pos       \n",
       "21   body    nursing NN       1\n",
       "25   body    nursing NN       1\n",
       "84   body    nursing NN       1\n",
       "86   body    nursing NN       1\n",
       "100  body    nursing NN       1\n",
       "120  body    nursing NN       1\n",
       "124  body    nursing NN       5\n",
       "125  body    nursing NN       1"
      ]
     },
     "execution_count": 18,
     "metadata": {},
     "output_type": "execute_result"
    }
   ],
   "source": [
    "tl_nursing = vol.tokenlist()\n",
    "nursing_pages = tl_nursing.loc[(slice(None), slice(None), \"nursing\"),]\n",
    "nursing_pages"
   ]
  },
  {
   "cell_type": "markdown",
   "id": "823dc3a7",
   "metadata": {},
   "source": [
    "### Counting and sorting\n",
    "\n",
    "For the next exercise, we'll limit our analysis to one page. "
   ]
  },
  {
   "cell_type": "code",
   "execution_count": 19,
   "id": "9310c406",
   "metadata": {},
   "outputs": [
    {
     "data": {
      "text/html": [
       "<div>\n",
       "<style scoped>\n",
       "    .dataframe tbody tr th:only-of-type {\n",
       "        vertical-align: middle;\n",
       "    }\n",
       "\n",
       "    .dataframe tbody tr th {\n",
       "        vertical-align: top;\n",
       "    }\n",
       "\n",
       "    .dataframe thead th {\n",
       "        text-align: right;\n",
       "    }\n",
       "</style>\n",
       "<table border=\"1\" class=\"dataframe\">\n",
       "  <thead>\n",
       "    <tr style=\"text-align: right;\">\n",
       "      <th></th>\n",
       "      <th></th>\n",
       "      <th></th>\n",
       "      <th></th>\n",
       "      <th>count</th>\n",
       "    </tr>\n",
       "    <tr>\n",
       "      <th>page</th>\n",
       "      <th>section</th>\n",
       "      <th>lowercase</th>\n",
       "      <th>pos</th>\n",
       "      <th></th>\n",
       "    </tr>\n",
       "  </thead>\n",
       "  <tbody>\n",
       "    <tr>\n",
       "      <th rowspan=\"10\" valign=\"top\">8</th>\n",
       "      <th rowspan=\"10\" valign=\"top\">body</th>\n",
       "      <th>the</th>\n",
       "      <th>DT</th>\n",
       "      <td>63</td>\n",
       "    </tr>\n",
       "    <tr>\n",
       "      <th>,</th>\n",
       "      <th>,</th>\n",
       "      <td>62</td>\n",
       "    </tr>\n",
       "    <tr>\n",
       "      <th>of</th>\n",
       "      <th>IN</th>\n",
       "      <td>44</td>\n",
       "    </tr>\n",
       "    <tr>\n",
       "      <th>.</th>\n",
       "      <th>.</th>\n",
       "      <td>39</td>\n",
       "    </tr>\n",
       "    <tr>\n",
       "      <th>to</th>\n",
       "      <th>TO</th>\n",
       "      <td>30</td>\n",
       "    </tr>\n",
       "    <tr>\n",
       "      <th>and</th>\n",
       "      <th>CC</th>\n",
       "      <td>25</td>\n",
       "    </tr>\n",
       "    <tr>\n",
       "      <th>in</th>\n",
       "      <th>IN</th>\n",
       "      <td>18</td>\n",
       "    </tr>\n",
       "    <tr>\n",
       "      <th>be</th>\n",
       "      <th>VB</th>\n",
       "      <td>17</td>\n",
       "    </tr>\n",
       "    <tr>\n",
       "      <th>will</th>\n",
       "      <th>MD</th>\n",
       "      <td>17</td>\n",
       "    </tr>\n",
       "    <tr>\n",
       "      <th>a</th>\n",
       "      <th>DT</th>\n",
       "      <td>16</td>\n",
       "    </tr>\n",
       "  </tbody>\n",
       "</table>\n",
       "</div>"
      ],
      "text/plain": [
       "                            count\n",
       "page section lowercase pos       \n",
       "8    body    the       DT      63\n",
       "             ,         ,       62\n",
       "             of        IN      44\n",
       "             .         .       39\n",
       "             to        TO      30\n",
       "             and       CC      25\n",
       "             in        IN      18\n",
       "             be        VB      17\n",
       "             will      MD      17\n",
       "             a         DT      16"
      ]
     },
     "execution_count": 19,
     "metadata": {},
     "output_type": "execute_result"
    }
   ],
   "source": [
    "# displaying first 10\n",
    "vol.tokenlist(page_select=8,case=False).sort_values('count', ascending=False)[:10]"
   ]
  },
  {
   "cell_type": "markdown",
   "id": "90ca8c76",
   "metadata": {},
   "source": [
    "### Filtering based on token count\n",
    "\n",
    "Use the \"boolean mask\" technique"
   ]
  },
  {
   "cell_type": "code",
   "execution_count": 20,
   "id": "233ce279",
   "metadata": {},
   "outputs": [
    {
     "data": {
      "text/html": [
       "<div>\n",
       "<style scoped>\n",
       "    .dataframe tbody tr th:only-of-type {\n",
       "        vertical-align: middle;\n",
       "    }\n",
       "\n",
       "    .dataframe tbody tr th {\n",
       "        vertical-align: top;\n",
       "    }\n",
       "\n",
       "    .dataframe thead th {\n",
       "        text-align: right;\n",
       "    }\n",
       "</style>\n",
       "<table border=\"1\" class=\"dataframe\">\n",
       "  <thead>\n",
       "    <tr style=\"text-align: right;\">\n",
       "      <th></th>\n",
       "      <th></th>\n",
       "      <th></th>\n",
       "      <th></th>\n",
       "      <th>count</th>\n",
       "    </tr>\n",
       "    <tr>\n",
       "      <th>page</th>\n",
       "      <th>section</th>\n",
       "      <th>lowercase</th>\n",
       "      <th>pos</th>\n",
       "      <th></th>\n",
       "    </tr>\n",
       "  </thead>\n",
       "  <tbody>\n",
       "    <tr>\n",
       "      <th rowspan=\"6\" valign=\"top\">8</th>\n",
       "      <th rowspan=\"6\" valign=\"top\">body</th>\n",
       "      <th>,</th>\n",
       "      <th>,</th>\n",
       "      <td>62</td>\n",
       "    </tr>\n",
       "    <tr>\n",
       "      <th>.</th>\n",
       "      <th>.</th>\n",
       "      <td>39</td>\n",
       "    </tr>\n",
       "    <tr>\n",
       "      <th>and</th>\n",
       "      <th>CC</th>\n",
       "      <td>25</td>\n",
       "    </tr>\n",
       "    <tr>\n",
       "      <th>of</th>\n",
       "      <th>IN</th>\n",
       "      <td>44</td>\n",
       "    </tr>\n",
       "    <tr>\n",
       "      <th>the</th>\n",
       "      <th>DT</th>\n",
       "      <td>63</td>\n",
       "    </tr>\n",
       "    <tr>\n",
       "      <th>to</th>\n",
       "      <th>TO</th>\n",
       "      <td>30</td>\n",
       "    </tr>\n",
       "  </tbody>\n",
       "</table>\n",
       "</div>"
      ],
      "text/plain": [
       "                            count\n",
       "page section lowercase pos       \n",
       "8    body    ,         ,       62\n",
       "             .         .       39\n",
       "             and       CC      25\n",
       "             of        IN      44\n",
       "             the       DT      63\n",
       "             to        TO      30"
      ]
     },
     "execution_count": 20,
     "metadata": {},
     "output_type": "execute_result"
    }
   ],
   "source": [
    "tl_page = vol.tokenlist(page_select=8,case=False)\n",
    "pandas.set_option('display.max_rows', None)\n",
    "tl_page[tl_page['count'] > 20]"
   ]
  },
  {
   "cell_type": "code",
   "execution_count": 21,
   "id": "91877f5c",
   "metadata": {},
   "outputs": [
    {
     "data": {
      "text/html": [
       "<div>\n",
       "<style scoped>\n",
       "    .dataframe tbody tr th:only-of-type {\n",
       "        vertical-align: middle;\n",
       "    }\n",
       "\n",
       "    .dataframe tbody tr th {\n",
       "        vertical-align: top;\n",
       "    }\n",
       "\n",
       "    .dataframe thead th {\n",
       "        text-align: right;\n",
       "    }\n",
       "</style>\n",
       "<table border=\"1\" class=\"dataframe\">\n",
       "  <thead>\n",
       "    <tr style=\"text-align: right;\">\n",
       "      <th></th>\n",
       "      <th></th>\n",
       "      <th></th>\n",
       "      <th></th>\n",
       "      <th>count</th>\n",
       "    </tr>\n",
       "    <tr>\n",
       "      <th>page</th>\n",
       "      <th>section</th>\n",
       "      <th>lowercase</th>\n",
       "      <th>pos</th>\n",
       "      <th></th>\n",
       "    </tr>\n",
       "  </thead>\n",
       "  <tbody>\n",
       "    <tr>\n",
       "      <th rowspan=\"10\" valign=\"top\">8</th>\n",
       "      <th rowspan=\"10\" valign=\"top\">body</th>\n",
       "      <th>the</th>\n",
       "      <th>DT</th>\n",
       "      <td>63</td>\n",
       "    </tr>\n",
       "    <tr>\n",
       "      <th>,</th>\n",
       "      <th>,</th>\n",
       "      <td>62</td>\n",
       "    </tr>\n",
       "    <tr>\n",
       "      <th>of</th>\n",
       "      <th>IN</th>\n",
       "      <td>44</td>\n",
       "    </tr>\n",
       "    <tr>\n",
       "      <th>.</th>\n",
       "      <th>.</th>\n",
       "      <td>39</td>\n",
       "    </tr>\n",
       "    <tr>\n",
       "      <th>to</th>\n",
       "      <th>TO</th>\n",
       "      <td>30</td>\n",
       "    </tr>\n",
       "    <tr>\n",
       "      <th>and</th>\n",
       "      <th>CC</th>\n",
       "      <td>25</td>\n",
       "    </tr>\n",
       "    <tr>\n",
       "      <th>in</th>\n",
       "      <th>IN</th>\n",
       "      <td>18</td>\n",
       "    </tr>\n",
       "    <tr>\n",
       "      <th>be</th>\n",
       "      <th>VB</th>\n",
       "      <td>17</td>\n",
       "    </tr>\n",
       "    <tr>\n",
       "      <th>will</th>\n",
       "      <th>MD</th>\n",
       "      <td>17</td>\n",
       "    </tr>\n",
       "    <tr>\n",
       "      <th>a</th>\n",
       "      <th>DT</th>\n",
       "      <td>16</td>\n",
       "    </tr>\n",
       "  </tbody>\n",
       "</table>\n",
       "</div>"
      ],
      "text/plain": [
       "                            count\n",
       "page section lowercase pos       \n",
       "8    body    the       DT      63\n",
       "             ,         ,       62\n",
       "             of        IN      44\n",
       "             .         .       39\n",
       "             to        TO      30\n",
       "             and       CC      25\n",
       "             in        IN      18\n",
       "             be        VB      17\n",
       "             will      MD      17\n",
       "             a         DT      16"
      ]
     },
     "execution_count": 21,
     "metadata": {},
     "output_type": "execute_result"
    }
   ],
   "source": [
    "# alternatively, you can order them and print the first n results\n",
    "tl_page.sort_values('count', ascending=False)[:10]"
   ]
  },
  {
   "cell_type": "markdown",
   "id": "7bc073c0",
   "metadata": {},
   "source": [
    "### Something to Consider\n",
    "\n",
    "The most common words, by count, are \"stop words\", common words that might not be useful in an analysis.\n",
    "In the next section, where we consider a collection of documents, we'll review a technique to remove stop words prior to analysis. "
   ]
  },
  {
   "cell_type": "markdown",
   "id": "73eddc95",
   "metadata": {},
   "source": [
    "### Working with granular, row-by-row data\n",
    "\n",
    "At some point, you may want to write your own code to work on a granular level with the contents of a record, rather than relying on dataframe operations. "
   ]
  },
  {
   "cell_type": "code",
   "execution_count": 22,
   "id": "9be9c076",
   "metadata": {},
   "outputs": [
    {
     "name": "stdout",
     "output_type": "stream",
     "text": [
      "page: <page 1 of volume uc1.32106020265887>\n",
      "i: (1, 'body', '-', 'UNK')\n",
      "r: count    1\n",
      "Name: (1, body, -, UNK), dtype: uint32\n",
      "\n",
      "i: (1, 'body', '020265887', 'UNK')\n",
      "r: count    1\n",
      "Name: (1, body, 020265887, UNK), dtype: uint32\n",
      "\n",
      "i: (1, 'body', '3.2106', 'UNK')\n",
      "r: count    1\n",
      "Name: (1, body, 3.2106, UNK), dtype: uint32\n",
      "\n",
      "i: (1, 'body', 'universit-of-ca-For-Santa-cau', 'UNK')\n",
      "r: count    1\n",
      "Name: (1, body, universit-of-ca-For-Santa-cau, UNK), dtype: uint32\n",
      "\n",
      "i: (1, 'body', '|||||||', 'UNK')\n",
      "r: count    1\n",
      "Name: (1, body, |||||||, UNK), dtype: uint32\n",
      "\n"
     ]
    }
   ],
   "source": [
    "# break to print only the first pate\n",
    "\n",
    "for page in vol.pages():\n",
    "    print('page:', page)\n",
    "    \n",
    "    page_df = page.tokenlist()\n",
    "\n",
    "    for i, r in page_df.iterrows():\n",
    "        print('i:', i)\n",
    "        print('r:', r)\n",
    "        print()\n",
    "    break\n"
   ]
  },
  {
   "cell_type": "code",
   "execution_count": null,
   "id": "f422cc5d",
   "metadata": {},
   "outputs": [],
   "source": []
  },
  {
   "cell_type": "code",
   "execution_count": null,
   "id": "051d572a",
   "metadata": {},
   "outputs": [],
   "source": []
  }
 ],
 "metadata": {
  "kernelspec": {
   "display_name": "Python 3 (ipykernel)",
   "language": "python",
   "name": "python3"
  },
  "language_info": {
   "codemirror_mode": {
    "name": "ipython",
    "version": 3
   },
   "file_extension": ".py",
   "mimetype": "text/x-python",
   "name": "python",
   "nbconvert_exporter": "python",
   "pygments_lexer": "ipython3",
   "version": "3.9.7"
  }
 },
 "nbformat": 4,
 "nbformat_minor": 5
}
